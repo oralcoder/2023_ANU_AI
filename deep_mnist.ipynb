{
  "nbformat": 4,
  "nbformat_minor": 0,
  "metadata": {
    "colab": {
      "provenance": [],
      "authorship_tag": "ABX9TyNByCVFgt2eczSlRvXlO6te",
      "include_colab_link": true
    },
    "kernelspec": {
      "display_name": "Python 3",
      "name": "python3"
    },
    "language_info": {
      "name": "python"
    }
  },
  "cells": [
    {
      "cell_type": "markdown",
      "metadata": {
        "id": "view-in-github",
        "colab_type": "text"
      },
      "source": [
        "<a href=\"https://colab.research.google.com/github/oralcoder/2023_ANU_AI/blob/main/deep_mnist.ipynb\" target=\"_parent\"><img src=\"https://colab.research.google.com/assets/colab-badge.svg\" alt=\"Open In Colab\"/></a>"
      ]
    },
    {
      "cell_type": "markdown",
      "metadata": {
        "id": "BcK9Pw1Hr9-9"
      },
      "source": [
        "### 1. 필요 모듈 가져오기"
      ]
    },
    {
      "cell_type": "code",
      "metadata": {
        "id": "OyGYDOpKJnRx"
      },
      "source": [
        "import numpy as np\n",
        "import matplotlib.pyplot as plt\n",
        "import tensorflow as tf\n",
        "from tensorflow import keras\n",
        "from tensorflow.keras import layers\n",
        "from tensorflow.keras.utils import plot_model"
      ],
      "execution_count": null,
      "outputs": []
    },
    {
      "cell_type": "markdown",
      "metadata": {
        "id": "ydeDxMX2sBvO"
      },
      "source": [
        "<br/>\n",
        "\n",
        "###2. 데이터 준비"
      ]
    },
    {
      "cell_type": "code",
      "metadata": {
        "colab": {
          "base_uri": "https://localhost:8080/"
        },
        "id": "dl0JVj7MKHOq",
        "outputId": "9aff6f6a-5682-46c2-ce16-85c4ac05a1ea"
      },
      "source": [
        "(trainX, trainY), (testX, testY) = keras.datasets.mnist.load_data()\n",
        "print(type(trainX))\n",
        "print(trainX.shape, trainY.shape, testX.shape, testY.shape)"
      ],
      "execution_count": null,
      "outputs": [
        {
          "output_type": "stream",
          "name": "stdout",
          "text": [
            "Downloading data from https://storage.googleapis.com/tensorflow/tf-keras-datasets/mnist.npz\n",
            "11490434/11490434 [==============================] - 1s 0us/step\n",
            "<class 'numpy.ndarray'>\n",
            "(60000, 28, 28) (60000,) (10000, 28, 28) (10000,)\n"
          ]
        }
      ]
    },
    {
      "cell_type": "code",
      "metadata": {
        "id": "y5op-IodNAGX",
        "colab": {
          "base_uri": "https://localhost:8080/"
        },
        "outputId": "b9a2c453-1427-46b1-a7d8-90e942e337b1"
      },
      "source": [
        "trainX[0]"
      ],
      "execution_count": null,
      "outputs": [
        {
          "output_type": "execute_result",
          "data": {
            "text/plain": [
              "array([[  0,   0,   0,   0,   0,   0,   0,   0,   0,   0,   0,   0,   0,\n",
              "          0,   0,   0,   0,   0,   0,   0,   0,   0,   0,   0,   0,   0,\n",
              "          0,   0],\n",
              "       [  0,   0,   0,   0,   0,   0,   0,   0,   0,   0,   0,   0,   0,\n",
              "          0,   0,   0,   0,   0,   0,   0,   0,   0,   0,   0,   0,   0,\n",
              "          0,   0],\n",
              "       [  0,   0,   0,   0,   0,   0,   0,   0,   0,   0,   0,   0,   0,\n",
              "          0,   0,   0,   0,   0,   0,   0,   0,   0,   0,   0,   0,   0,\n",
              "          0,   0],\n",
              "       [  0,   0,   0,   0,   0,   0,   0,   0,   0,   0,   0,   0,   0,\n",
              "          0,   0,   0,   0,   0,   0,   0,   0,   0,   0,   0,   0,   0,\n",
              "          0,   0],\n",
              "       [  0,   0,   0,   0,   0,   0,   0,   0,   0,   0,   0,   0,   0,\n",
              "          0,   0,   0,   0,   0,   0,   0,   0,   0,   0,   0,   0,   0,\n",
              "          0,   0],\n",
              "       [  0,   0,   0,   0,   0,   0,   0,   0,   0,   0,   0,   0,   3,\n",
              "         18,  18,  18, 126, 136, 175,  26, 166, 255, 247, 127,   0,   0,\n",
              "          0,   0],\n",
              "       [  0,   0,   0,   0,   0,   0,   0,   0,  30,  36,  94, 154, 170,\n",
              "        253, 253, 253, 253, 253, 225, 172, 253, 242, 195,  64,   0,   0,\n",
              "          0,   0],\n",
              "       [  0,   0,   0,   0,   0,   0,   0,  49, 238, 253, 253, 253, 253,\n",
              "        253, 253, 253, 253, 251,  93,  82,  82,  56,  39,   0,   0,   0,\n",
              "          0,   0],\n",
              "       [  0,   0,   0,   0,   0,   0,   0,  18, 219, 253, 253, 253, 253,\n",
              "        253, 198, 182, 247, 241,   0,   0,   0,   0,   0,   0,   0,   0,\n",
              "          0,   0],\n",
              "       [  0,   0,   0,   0,   0,   0,   0,   0,  80, 156, 107, 253, 253,\n",
              "        205,  11,   0,  43, 154,   0,   0,   0,   0,   0,   0,   0,   0,\n",
              "          0,   0],\n",
              "       [  0,   0,   0,   0,   0,   0,   0,   0,   0,  14,   1, 154, 253,\n",
              "         90,   0,   0,   0,   0,   0,   0,   0,   0,   0,   0,   0,   0,\n",
              "          0,   0],\n",
              "       [  0,   0,   0,   0,   0,   0,   0,   0,   0,   0,   0, 139, 253,\n",
              "        190,   2,   0,   0,   0,   0,   0,   0,   0,   0,   0,   0,   0,\n",
              "          0,   0],\n",
              "       [  0,   0,   0,   0,   0,   0,   0,   0,   0,   0,   0,  11, 190,\n",
              "        253,  70,   0,   0,   0,   0,   0,   0,   0,   0,   0,   0,   0,\n",
              "          0,   0],\n",
              "       [  0,   0,   0,   0,   0,   0,   0,   0,   0,   0,   0,   0,  35,\n",
              "        241, 225, 160, 108,   1,   0,   0,   0,   0,   0,   0,   0,   0,\n",
              "          0,   0],\n",
              "       [  0,   0,   0,   0,   0,   0,   0,   0,   0,   0,   0,   0,   0,\n",
              "         81, 240, 253, 253, 119,  25,   0,   0,   0,   0,   0,   0,   0,\n",
              "          0,   0],\n",
              "       [  0,   0,   0,   0,   0,   0,   0,   0,   0,   0,   0,   0,   0,\n",
              "          0,  45, 186, 253, 253, 150,  27,   0,   0,   0,   0,   0,   0,\n",
              "          0,   0],\n",
              "       [  0,   0,   0,   0,   0,   0,   0,   0,   0,   0,   0,   0,   0,\n",
              "          0,   0,  16,  93, 252, 253, 187,   0,   0,   0,   0,   0,   0,\n",
              "          0,   0],\n",
              "       [  0,   0,   0,   0,   0,   0,   0,   0,   0,   0,   0,   0,   0,\n",
              "          0,   0,   0,   0, 249, 253, 249,  64,   0,   0,   0,   0,   0,\n",
              "          0,   0],\n",
              "       [  0,   0,   0,   0,   0,   0,   0,   0,   0,   0,   0,   0,   0,\n",
              "          0,  46, 130, 183, 253, 253, 207,   2,   0,   0,   0,   0,   0,\n",
              "          0,   0],\n",
              "       [  0,   0,   0,   0,   0,   0,   0,   0,   0,   0,   0,   0,  39,\n",
              "        148, 229, 253, 253, 253, 250, 182,   0,   0,   0,   0,   0,   0,\n",
              "          0,   0],\n",
              "       [  0,   0,   0,   0,   0,   0,   0,   0,   0,   0,  24, 114, 221,\n",
              "        253, 253, 253, 253, 201,  78,   0,   0,   0,   0,   0,   0,   0,\n",
              "          0,   0],\n",
              "       [  0,   0,   0,   0,   0,   0,   0,   0,  23,  66, 213, 253, 253,\n",
              "        253, 253, 198,  81,   2,   0,   0,   0,   0,   0,   0,   0,   0,\n",
              "          0,   0],\n",
              "       [  0,   0,   0,   0,   0,   0,  18, 171, 219, 253, 253, 253, 253,\n",
              "        195,  80,   9,   0,   0,   0,   0,   0,   0,   0,   0,   0,   0,\n",
              "          0,   0],\n",
              "       [  0,   0,   0,   0,  55, 172, 226, 253, 253, 253, 253, 244, 133,\n",
              "         11,   0,   0,   0,   0,   0,   0,   0,   0,   0,   0,   0,   0,\n",
              "          0,   0],\n",
              "       [  0,   0,   0,   0, 136, 253, 253, 253, 212, 135, 132,  16,   0,\n",
              "          0,   0,   0,   0,   0,   0,   0,   0,   0,   0,   0,   0,   0,\n",
              "          0,   0],\n",
              "       [  0,   0,   0,   0,   0,   0,   0,   0,   0,   0,   0,   0,   0,\n",
              "          0,   0,   0,   0,   0,   0,   0,   0,   0,   0,   0,   0,   0,\n",
              "          0,   0],\n",
              "       [  0,   0,   0,   0,   0,   0,   0,   0,   0,   0,   0,   0,   0,\n",
              "          0,   0,   0,   0,   0,   0,   0,   0,   0,   0,   0,   0,   0,\n",
              "          0,   0],\n",
              "       [  0,   0,   0,   0,   0,   0,   0,   0,   0,   0,   0,   0,   0,\n",
              "          0,   0,   0,   0,   0,   0,   0,   0,   0,   0,   0,   0,   0,\n",
              "          0,   0]], dtype=uint8)"
            ]
          },
          "metadata": {},
          "execution_count": 3
        }
      ]
    },
    {
      "cell_type": "code",
      "metadata": {
        "colab": {
          "base_uri": "https://localhost:8080/"
        },
        "id": "S7mEe62iLjF-",
        "outputId": "4362ae57-c1cf-4cc3-f4d5-26d8db72a023"
      },
      "source": [
        "trainY[0]"
      ],
      "execution_count": null,
      "outputs": [
        {
          "output_type": "execute_result",
          "data": {
            "text/plain": [
              "5"
            ]
          },
          "metadata": {},
          "execution_count": 4
        }
      ]
    },
    {
      "cell_type": "code",
      "metadata": {
        "colab": {
          "base_uri": "https://localhost:8080/"
        },
        "id": "hTOkWt_jRrhm",
        "outputId": "2d5827a9-71f9-4fb3-a03d-7a0912b0c856"
      },
      "source": [
        "# Label 확인\n",
        "np.unique(trainY)"
      ],
      "execution_count": null,
      "outputs": [
        {
          "output_type": "execute_result",
          "data": {
            "text/plain": [
              "array([0, 1, 2, 3, 4, 5, 6, 7, 8, 9], dtype=uint8)"
            ]
          },
          "metadata": {},
          "execution_count": 5
        }
      ]
    },
    {
      "cell_type": "code",
      "metadata": {
        "colab": {
          "base_uri": "https://localhost:8080/",
          "height": 150
        },
        "id": "YuL42NgLjYLO",
        "outputId": "4e508320-a084-4b9c-c44b-1bdc9c267524"
      },
      "source": [
        "plt.subplot(1,5,1)\n",
        "plt.imshow(trainX[0])\n",
        "plt.subplot(1,5,2)\n",
        "plt.imshow(trainX[1])\n",
        "plt.subplot(1,5,3)\n",
        "plt.imshow(trainX[2])\n",
        "plt.subplot(1,5,4)\n",
        "plt.imshow(trainX[3])\n",
        "plt.subplot(1,5,5)\n",
        "plt.imshow(trainX[4])\n",
        "plt.show()"
      ],
      "execution_count": null,
      "outputs": [
        {
          "output_type": "display_data",
          "data": {
            "text/plain": [
              "<Figure size 640x480 with 5 Axes>"
            ],
            "image/png": "[encoded data removed]"
          },
          "metadata": {}
        }
      ]
    },
    {
      "cell_type": "code",
      "metadata": {
        "colab": {
          "base_uri": "https://localhost:8080/"
        },
        "id": "cvehz-PAnxkn",
        "outputId": "a86b88e6-3d65-4d03-c7f7-f63c3d808ceb"
      },
      "source": [
        "print(trainY[0:5])"
      ],
      "execution_count": null,
      "outputs": [
        {
          "output_type": "stream",
          "name": "stdout",
          "text": [
            "[5 0 4 1 9]\n"
          ]
        }
      ]
    },
    {
      "cell_type": "markdown",
      "metadata": {
        "id": "Jwl_RPbEFejh"
      },
      "source": []
    },
    {
      "cell_type": "code",
      "metadata": {
        "id": "jx1y7GarjIpk"
      },
      "source": [
        "# 1차원의 펼쳐진 모양으로 변환 (28 X 28 형태를 784로 변환, 3차원을 2차원으로 변환)\n",
        "trainX = trainX.reshape((60000, 28 * 28))\n",
        "testX = testX.reshape((10000, 28 * 28))\n",
        "\n",
        "# 정규화\n",
        "trainX = trainX / 255\n",
        "testX = testX / 255"
      ],
      "execution_count": null,
      "outputs": []
    },
    {
      "cell_type": "markdown",
      "metadata": {
        "id": "XbtRWJ4eqMCF"
      },
      "source": [
        "<br/>\n",
        "\n",
        "###3. 모델 I"
      ]
    },
    {
      "cell_type": "markdown",
      "metadata": {
        "id": "bYU0zJtosze1"
      },
      "source": [
        "####모델 구성"
      ]
    },
    {
      "cell_type": "code",
      "metadata": {
        "id": "si3jLP0LgjcW",
        "colab": {
          "base_uri": "https://localhost:8080/"
        },
        "outputId": "6d2371ce-6714-4ccb-d10a-698b217c05f5"
      },
      "source": [
        "model = keras.Sequential()\n",
        "# 입력 노드, 차원일 경우 뒤에 콤마 추가\n",
        "model.add(layers.InputLayer(input_shape=(28*28,)))\n",
        "# 128개의 노드\n",
        "model.add(layers.Dense(128, activation='relu'))\n",
        "# 10개의 확률로 반환 반환된 값의 전체 합은 1\n",
        "# 10개 중 하나에 속할 확률\n",
        "model.add(layers.Dense(10, activation='softmax'))\n",
        "model.summary()"
      ],
      "execution_count": null,
      "outputs": [
        {
          "output_type": "stream",
          "name": "stdout",
          "text": [
            "Model: \"sequential_1\"\n",
            "_________________________________________________________________\n",
            " Layer (type)                Output Shape              Param #   \n",
            "=================================================================\n",
            " dense_2 (Dense)             (None, 128)               100480    \n",
            "                                                                 \n",
            " dense_3 (Dense)             (None, 10)                1290      \n",
            "                                                                 \n",
            "=================================================================\n",
            "Total params: 101,770\n",
            "Trainable params: 101,770\n",
            "Non-trainable params: 0\n",
            "_________________________________________________________________\n"
          ]
        }
      ]
    },
    {
      "cell_type": "markdown",
      "source": [
        "model = keras.Sequential()\n",
        "# 입력 노드\n",
        "#model.add(layers.InputLayer(input_shape=(28*28,)))\n",
        "# 128개의 노드\n",
        "model.add(layers.Dense(512, input_shape=(28*28, ), activation='relu'))\n",
        "model.add(layers.Dropout(0.5))\n",
        "# 10개의 확률로 반환 반환된 값의 전체 합은 1\n",
        "# 10개 중 하나에 속할 확률\n",
        "model.add(layers.Dense(10, activation='softmax'))\n",
        "model.summary()"
      ],
      "metadata": {
        "id": "4X0IDDVijBq5"
      }
    },
    {
      "cell_type": "code",
      "metadata": {
        "colab": {
          "base_uri": "https://localhost:8080/",
          "height": 312
        },
        "id": "OuU8sQ9xrQvd",
        "outputId": "e919451c-4011-4c24-85fc-858644c15250"
      },
      "source": [
        "plot_model(model, show_shapes=True)"
      ],
      "execution_count": null,
      "outputs": [
        {
          "output_type": "execute_result",
          "data": {
            "image/png": "[encoded data removed]",
            "text/plain": [
              "<IPython.core.display.Image object>"
            ]
          },
          "metadata": {},
          "execution_count": 11
        }
      ]
    },
    {
      "cell_type": "code",
      "metadata": {
        "id": "Yk-cr2DuhChL"
      },
      "source": [
        "#from tensorflow.keras.optimizers import Adam\n",
        "#model.compile(optimizer=Adam(learning_rate=0.001), loss=\"sparse_categorical_crossentropy\", metrics=[\"accuracy\"])\n",
        "model.compile(optimizer=\"Adam\", loss=\"sparse_categorical_crossentropy\", metrics=[\"accuracy\"])\n"
      ],
      "execution_count": null,
      "outputs": []
    },
    {
      "cell_type": "markdown",
      "metadata": {
        "id": "DO-s2Bfxsqir"
      },
      "source": [
        "<br/>\n",
        "\n",
        "####학습"
      ]
    },
    {
      "cell_type": "code",
      "metadata": {
        "colab": {
          "base_uri": "https://localhost:8080/"
        },
        "id": "1bR6wMSjhVLi",
        "outputId": "94aac0bc-8031-42ab-b9a3-e43275c42168"
      },
      "source": [
        "hist1 = model.fit(trainX, trainY, epochs=15)"
      ],
      "execution_count": null,
      "outputs": [
        {
          "output_type": "stream",
          "name": "stdout",
          "text": [
            "Epoch 1/15\n",
            "1875/1875 [==============================] - 10s 5ms/step - loss: 0.2599 - accuracy: 0.9255\n",
            "Epoch 2/15\n",
            "1875/1875 [==============================] - 11s 6ms/step - loss: 0.1173 - accuracy: 0.9656\n",
            "Epoch 3/15\n",
            "1875/1875 [==============================] - 9s 5ms/step - loss: 0.0801 - accuracy: 0.9761\n",
            "Epoch 4/15\n",
            "1875/1875 [==============================] - 9s 5ms/step - loss: 0.0615 - accuracy: 0.9813\n",
            "Epoch 5/15\n",
            "1875/1875 [==============================] - 8s 4ms/step - loss: 0.0469 - accuracy: 0.9854\n",
            "Epoch 6/15\n",
            "1875/1875 [==============================] - 9s 5ms/step - loss: 0.0374 - accuracy: 0.9885\n",
            "Epoch 7/15\n",
            "1875/1875 [==============================] - 8s 4ms/step - loss: 0.0305 - accuracy: 0.9902\n",
            "Epoch 8/15\n",
            "1875/1875 [==============================] - 8s 4ms/step - loss: 0.0244 - accuracy: 0.9923\n",
            "Epoch 9/15\n",
            "1875/1875 [==============================] - 9s 5ms/step - loss: 0.0196 - accuracy: 0.9939\n",
            "Epoch 10/15\n",
            "1875/1875 [==============================] - 8s 4ms/step - loss: 0.0172 - accuracy: 0.9945\n",
            "Epoch 11/15\n",
            "1875/1875 [==============================] - 9s 5ms/step - loss: 0.0134 - accuracy: 0.9959\n",
            "Epoch 12/15\n",
            "1875/1875 [==============================] - 9s 5ms/step - loss: 0.0118 - accuracy: 0.9963\n",
            "Epoch 13/15\n",
            "1875/1875 [==============================] - 7s 4ms/step - loss: 0.0108 - accuracy: 0.9965\n",
            "Epoch 14/15\n",
            "1875/1875 [==============================] - 9s 5ms/step - loss: 0.0104 - accuracy: 0.9966\n",
            "Epoch 15/15\n",
            "1875/1875 [==============================] - 9s 5ms/step - loss: 0.0081 - accuracy: 0.9973\n"
          ]
        }
      ]
    },
    {
      "cell_type": "markdown",
      "metadata": {
        "id": "KbSmmtGEs4RJ"
      },
      "source": [
        "<br/>\n",
        "\n",
        "####모델 평가"
      ]
    },
    {
      "cell_type": "code",
      "metadata": {
        "colab": {
          "base_uri": "https://localhost:8080/"
        },
        "id": "efA3HD9HhFZG",
        "outputId": "d53cf3d1-f8b7-453c-bb76-d3106c8d642a"
      },
      "source": [
        "model.evaluate(testX, testY)"
      ],
      "execution_count": null,
      "outputs": [
        {
          "output_type": "stream",
          "name": "stdout",
          "text": [
            "313/313 [==============================] - 1s 2ms/step - loss: 0.0955 - accuracy: 0.9796\n"
          ]
        },
        {
          "output_type": "execute_result",
          "data": {
            "text/plain": [
              "[0.09553582221269608, 0.9796000123023987]"
            ]
          },
          "metadata": {},
          "execution_count": 14
        }
      ]
    },
    {
      "cell_type": "code",
      "metadata": {
        "colab": {
          "base_uri": "https://localhost:8080/"
        },
        "id": "f4InGpWBuFhq",
        "outputId": "9558529f-e0c8-4eca-cd53-6abb00940aa4"
      },
      "source": [
        "print(hist1.history['loss'])\n",
        "print(hist1.history['accuracy'])"
      ],
      "execution_count": null,
      "outputs": [
        {
          "output_type": "stream",
          "name": "stdout",
          "text": [
            "[0.259903222322464, 0.1173306554555893, 0.08007799834012985, 0.06149858236312866, 0.04693126305937767, 0.03742896765470505, 0.030472148209810257, 0.02444043941795826, 0.01961015909910202, 0.017232855781912804, 0.013403216376900673, 0.011784650385379791, 0.01077710185199976, 0.01042201742529869, 0.008081283420324326]\n",
            "[0.9254999756813049, 0.9655666947364807, 0.9760500192642212, 0.9812666773796082, 0.9854166507720947, 0.9884833097457886, 0.9901999831199646, 0.9922666549682617, 0.9939000010490417, 0.994533360004425, 0.9958833456039429, 0.9962999820709229, 0.9965333342552185, 0.996649980545044, 0.9973499774932861]\n"
          ]
        }
      ]
    },
    {
      "cell_type": "code",
      "metadata": {
        "colab": {
          "base_uri": "https://localhost:8080/"
        },
        "id": "VRTxcKL7kFve",
        "outputId": "6354a5ad-6eaa-44b4-f73b-81ce6d2657b5"
      },
      "source": [
        "preds = model.predict(testX)\n",
        "print(preds[0])\n",
        "print(np.argmax(preds[0]))"
      ],
      "execution_count": null,
      "outputs": [
        {
          "output_type": "stream",
          "name": "stdout",
          "text": [
            "313/313 [==============================] - 1s 2ms/step\n",
            "[3.3474928e-11 2.3331562e-13 1.0919142e-11 2.0440501e-07 1.3339610e-18\n",
            " 3.5185943e-12 6.6129464e-24 9.9999958e-01 1.3612485e-12 1.4466701e-07]\n",
            "7\n"
          ]
        }
      ]
    },
    {
      "cell_type": "code",
      "source": [
        "type(preds[0])"
      ],
      "metadata": {
        "colab": {
          "base_uri": "https://localhost:8080/"
        },
        "id": "HIelch4V7qgp",
        "outputId": "722d9b82-508f-448d-8f61-f7ace9166f0c"
      },
      "execution_count": null,
      "outputs": [
        {
          "output_type": "execute_result",
          "data": {
            "text/plain": [
              "numpy.ndarray"
            ]
          },
          "metadata": {},
          "execution_count": 17
        }
      ]
    },
    {
      "cell_type": "code",
      "source": [
        "errors = []\n",
        "for i, pred in enumerate(preds):\n",
        "  if np.argmax(pred) != testY[i]:\n",
        "    errors.append(i)"
      ],
      "metadata": {
        "id": "QvUoPz6A7T1d"
      },
      "execution_count": null,
      "outputs": []
    },
    {
      "cell_type": "code",
      "source": [
        "print(errors)\n",
        "print(len(errors))"
      ],
      "metadata": {
        "colab": {
          "base_uri": "https://localhost:8080/"
        },
        "id": "LR4nv9TZ8Xoz",
        "outputId": "9b07b77c-a468-48a7-d8e9-60743b9c5b30"
      },
      "execution_count": null,
      "outputs": [
        {
          "output_type": "stream",
          "name": "stdout",
          "text": [
            "[149, 247, 321, 340, 381, 445, 495, 582, 583, 613, 619, 629, 685, 691, 720, 726, 740, 877, 882, 900, 947, 951, 956, 965, 1014, 1039, 1044, 1112, 1156, 1178, 1226, 1242, 1247, 1260, 1289, 1319, 1328, 1364, 1378, 1393, 1414, 1422, 1444, 1494, 1500, 1522, 1530, 1549, 1609, 1681, 1717, 1748, 1754, 1800, 1850, 1878, 1901, 1941, 1987, 2004, 2044, 2098, 2109, 2118, 2130, 2135, 2272, 2293, 2387, 2408, 2422, 2488, 2607, 2648, 2654, 2810, 2896, 2921, 2927, 2939, 3060, 3073, 3117, 3225, 3289, 3333, 3422, 3475, 3503, 3520, 3558, 3567, 3634, 3681, 3727, 3751, 3762, 3796, 3808, 3818, 3838, 3853, 3906, 3941, 3943, 3946, 4027, 4065, 4075, 4078, 4156, 4163, 4199, 4224, 4248, 4271, 4289, 4355, 4360, 4425, 4437, 4443, 4497, 4504, 4536, 4547, 4571, 4601, 4635, 4639, 4671, 4740, 4761, 4807, 4823, 4880, 4956, 5078, 5199, 5265, 5331, 5457, 5642, 5734, 5936, 5937, 5955, 5972, 5973, 5981, 5997, 6009, 6011, 6023, 6045, 6059, 6555, 6558, 6571, 6574, 6576, 6597, 6625, 6651, 6755, 6783, 6847, 6945, 7233, 7434, 7800, 7821, 7909, 7921, 8059, 8062, 8196, 8246, 8277, 8311, 8325, 8408, 8522, 8527, 9009, 9015, 9019, 9024, 9280, 9587, 9664, 9669, 9679, 9692, 9729, 9742, 9745, 9770, 9777, 9792, 9811, 9839, 9858, 9925]\n",
            "204\n"
          ]
        }
      ]
    },
    {
      "cell_type": "code",
      "source": [
        "print(np.argmax(preds[0]), testY[0])\n",
        "plt.imshow(testX[0].reshape(28, 28))\n",
        "plt.show()"
      ],
      "metadata": {
        "colab": {
          "base_uri": "https://localhost:8080/",
          "height": 449
        },
        "id": "tff0Gmm28gT-",
        "outputId": "1db40f23-7b94-4621-d30f-b2c4fcf8d8ed"
      },
      "execution_count": null,
      "outputs": [
        {
          "output_type": "stream",
          "name": "stdout",
          "text": [
            "7 7\n"
          ]
        },
        {
          "output_type": "display_data",
          "data": {
            "text/plain": [
              "<Figure size 640x480 with 1 Axes>"
            ],
            "image/png": "[encoded data removed]"
          },
          "metadata": {}
        }
      ]
    },
    {
      "cell_type": "code",
      "metadata": {
        "colab": {
          "base_uri": "https://localhost:8080/",
          "height": 283
        },
        "id": "4Rcl5R1TkW6b",
        "outputId": "fe7d0f47-7b95-48a3-8051-6115480564bc"
      },
      "source": [
        "print(testY[0])\n",
        "plt.imshow(testX[0].reshape(28, 28))\n",
        "plt.show()"
      ],
      "execution_count": null,
      "outputs": [
        {
          "output_type": "stream",
          "name": "stdout",
          "text": [
            "7\n"
          ]
        },
        {
          "output_type": "display_data",
          "data": {
            "text/plain": [
              "<Figure size 432x288 with 1 Axes>"
            ],
            "image/png": "[encoded data removed]"
          },
          "metadata": {
            "needs_background": "light"
          }
        }
      ]
    },
    {
      "cell_type": "code",
      "metadata": {
        "colab": {
          "base_uri": "https://localhost:8080/"
        },
        "id": "MTCPEzEhlCM1",
        "outputId": "cba5bce5-84c4-403d-b91b-c3cc495db98e"
      },
      "source": [
        "print(preds[321])\n",
        "print(np.argmax(preds[321]))"
      ],
      "execution_count": null,
      "outputs": [
        {
          "output_type": "stream",
          "name": "stdout",
          "text": [
            "[6.3911330e-08 6.6290283e-08 1.2774857e-03 1.9906669e-04 1.6451792e-17\n",
            " 1.6740926e-09 4.8153314e-17 9.9787170e-01 5.7019806e-04 8.1383580e-05]\n",
            "7\n"
          ]
        }
      ]
    },
    {
      "cell_type": "code",
      "metadata": {
        "colab": {
          "base_uri": "https://localhost:8080/",
          "height": 449
        },
        "id": "yGqoXhHElKJ6",
        "outputId": "c4c87cb6-ae7e-4445-a12a-6b0134d1bd52"
      },
      "source": [
        "print(testY[321])\n",
        "plt.imshow(testX[321].reshape(28, 28))\n",
        "plt.show()"
      ],
      "execution_count": null,
      "outputs": [
        {
          "output_type": "stream",
          "name": "stdout",
          "text": [
            "2\n"
          ]
        },
        {
          "output_type": "display_data",
          "data": {
            "text/plain": [
              "<Figure size 640x480 with 1 Axes>"
            ],
            "image/png": "[encoded data removed]"
          },
          "metadata": {}
        }
      ]
    },
    {
      "cell_type": "markdown",
      "metadata": {
        "id": "nS0AfAcOqI9W"
      },
      "source": [
        "<br/>\n",
        "\n",
        "###4. 모델 II"
      ]
    },
    {
      "cell_type": "markdown",
      "metadata": {
        "id": "6rN1C9UWtKaS"
      },
      "source": [
        "####모델 구성"
      ]
    },
    {
      "cell_type": "code",
      "metadata": {
        "id": "XGq_JI1GqJkN"
      },
      "source": [
        "model = keras.Sequential()\n",
        "# 입력 노드\n",
        "model.add(layers.InputLayer(input_shape=(28*28,)))\n",
        "# 256개의 노드\n",
        "model.add(layers.Dense(256, activation='relu'))\n",
        "# 128개의 노드\n",
        "model.add(layers.Dense(128, activation='relu'))\n",
        "# 10개의 확률로 반환 반환된 값의 전체 합은 1\n",
        "# 10개 중 하나에 속할 확률\n",
        "model.add(layers.Dense(10, activation='softmax'))"
      ],
      "execution_count": null,
      "outputs": []
    },
    {
      "cell_type": "code",
      "metadata": {
        "colab": {
          "base_uri": "https://localhost:8080/"
        },
        "id": "q4uM9ICkqJkO",
        "outputId": "52845001-6494-4e3d-c4e6-1ec70b0da658"
      },
      "source": [
        "model.summary()"
      ],
      "execution_count": null,
      "outputs": [
        {
          "output_type": "stream",
          "name": "stdout",
          "text": [
            "Model: \"sequential_1\"\n",
            "_________________________________________________________________\n",
            " Layer (type)                Output Shape              Param #   \n",
            "=================================================================\n",
            " dense_2 (Dense)             (None, 256)               200960    \n",
            "                                                                 \n",
            " dense_3 (Dense)             (None, 128)               32896     \n",
            "                                                                 \n",
            " dense_4 (Dense)             (None, 10)                1290      \n",
            "                                                                 \n",
            "=================================================================\n",
            "Total params: 235,146\n",
            "Trainable params: 235,146\n",
            "Non-trainable params: 0\n",
            "_________________________________________________________________\n"
          ]
        }
      ]
    },
    {
      "cell_type": "code",
      "metadata": {
        "colab": {
          "base_uri": "https://localhost:8080/",
          "height": 422
        },
        "id": "vqN0eCnermqL",
        "outputId": "a17881cb-1542-497c-f059-832ec2349366"
      },
      "source": [
        "plot_model(model, show_shapes=True)"
      ],
      "execution_count": null,
      "outputs": [
        {
          "output_type": "execute_result",
          "data": {
            "text/plain": [
              "<IPython.core.display.Image object>"
            ],
            "image/png": "[encoded data removed]"
          },
          "metadata": {},
          "execution_count": 20
        }
      ]
    },
    {
      "cell_type": "code",
      "metadata": {
        "id": "7sHEeLwaqJkP"
      },
      "source": [
        "model.compile(optimizer=\"adam\", loss=\"sparse_categorical_crossentropy\", metrics=[\"accuracy\"])"
      ],
      "execution_count": null,
      "outputs": []
    },
    {
      "cell_type": "markdown",
      "metadata": {
        "id": "mRZ7rUE-tOi7"
      },
      "source": [
        "<br/>\n",
        "\n",
        "####학습"
      ]
    },
    {
      "cell_type": "code",
      "metadata": {
        "colab": {
          "base_uri": "https://localhost:8080/"
        },
        "id": "eVjf_PCBqJkQ",
        "outputId": "50b2ff45-3cb4-4982-a988-16ad78883623"
      },
      "source": [
        "hist2 = model.fit(trainX, trainY, epochs=15)"
      ],
      "execution_count": null,
      "outputs": [
        {
          "output_type": "stream",
          "name": "stdout",
          "text": [
            "Epoch 1/15\n",
            "1875/1875 [==============================] - 8s 4ms/step - loss: 0.2026 - accuracy: 0.9392\n",
            "Epoch 2/15\n",
            "1875/1875 [==============================] - 9s 5ms/step - loss: 0.0859 - accuracy: 0.9737\n",
            "Epoch 3/15\n",
            "1875/1875 [==============================] - 8s 4ms/step - loss: 0.0586 - accuracy: 0.9816\n",
            "Epoch 4/15\n",
            "1875/1875 [==============================] - 8s 4ms/step - loss: 0.0433 - accuracy: 0.9860\n",
            "Epoch 5/15\n",
            "1875/1875 [==============================] - 8s 4ms/step - loss: 0.0351 - accuracy: 0.9884\n",
            "Epoch 6/15\n",
            "1875/1875 [==============================] - 9s 5ms/step - loss: 0.0286 - accuracy: 0.9908\n",
            "Epoch 7/15\n",
            "1875/1875 [==============================] - 8s 4ms/step - loss: 0.0238 - accuracy: 0.9921\n",
            "Epoch 8/15\n",
            "1875/1875 [==============================] - 8s 4ms/step - loss: 0.0208 - accuracy: 0.9930\n",
            "Epoch 9/15\n",
            "1875/1875 [==============================] - 8s 4ms/step - loss: 0.0180 - accuracy: 0.9940\n",
            "Epoch 10/15\n",
            "1875/1875 [==============================] - 8s 4ms/step - loss: 0.0159 - accuracy: 0.9949\n",
            "Epoch 11/15\n",
            "1875/1875 [==============================] - 9s 5ms/step - loss: 0.0148 - accuracy: 0.9949\n",
            "Epoch 12/15\n",
            "1875/1875 [==============================] - 8s 4ms/step - loss: 0.0122 - accuracy: 0.9959\n",
            "Epoch 13/15\n",
            "1875/1875 [==============================] - 8s 4ms/step - loss: 0.0135 - accuracy: 0.9959\n",
            "Epoch 14/15\n",
            "1875/1875 [==============================] - 8s 4ms/step - loss: 0.0119 - accuracy: 0.9962\n",
            "Epoch 15/15\n",
            "1875/1875 [==============================] - 10s 5ms/step - loss: 0.0110 - accuracy: 0.9966\n"
          ]
        }
      ]
    },
    {
      "cell_type": "markdown",
      "metadata": {
        "id": "v2txJUFrtR5z"
      },
      "source": [
        "<br/>\n",
        "\n",
        "####모델 평가"
      ]
    },
    {
      "cell_type": "code",
      "metadata": {
        "colab": {
          "base_uri": "https://localhost:8080/"
        },
        "id": "PlcQE4BzqJkR",
        "outputId": "044a1fc7-9977-4c21-9bd2-b601590a2e3f"
      },
      "source": [
        "model.evaluate(testX, testY)"
      ],
      "execution_count": null,
      "outputs": [
        {
          "output_type": "stream",
          "name": "stdout",
          "text": [
            "313/313 [==============================] - 1s 3ms/step - loss: 0.1067 - accuracy: 0.9801\n"
          ]
        },
        {
          "output_type": "execute_result",
          "data": {
            "text/plain": [
              "[0.10666147619485855, 0.9800999760627747]"
            ]
          },
          "metadata": {},
          "execution_count": 35
        }
      ]
    },
    {
      "cell_type": "code",
      "metadata": {
        "colab": {
          "base_uri": "https://localhost:8080/"
        },
        "id": "0rJ--maSuYIE",
        "outputId": "18f38e64-8e55-49b0-a544-b9d018cfeb90"
      },
      "source": [
        "print(hist2.history['loss'])\n",
        "print(hist2.history['accuracy'])"
      ],
      "execution_count": null,
      "outputs": [
        {
          "output_type": "stream",
          "name": "stdout",
          "text": [
            "[0.20107698440551758, 0.08591024577617645, 0.0602596290409565, 0.045005448162555695, 0.033713482320308685]\n",
            "[0.941016674041748, 0.9731500148773193, 0.9808833599090576, 0.9857500195503235, 0.989133358001709]\n"
          ]
        }
      ]
    },
    {
      "cell_type": "code",
      "metadata": {
        "colab": {
          "base_uri": "https://localhost:8080/",
          "height": 521
        },
        "id": "nUe3rYtUubZB",
        "outputId": "46b1f436-fe71-489b-e68d-8500510f31d8"
      },
      "source": [
        "plt.figure()\n",
        "plt.plot(hist1.history['loss'])\n",
        "plt.plot(hist1.history['accuracy'])\n",
        "plt.xlim([0,14])\n",
        "plt.ylim([0,3])\n",
        "plt.figure()\n",
        "plt.plot(hist2.history['loss'])\n",
        "plt.plot(hist2.history['accuracy'])\n",
        "plt.xlim([0,14])\n",
        "plt.ylim([0,3])\n",
        "plt.show()"
      ],
      "execution_count": null,
      "outputs": [
        {
          "output_type": "display_data",
          "data": {
            "text/plain": [
              "<Figure size 432x288 with 1 Axes>"
            ],
            "image/png": "[encoded data removed]"
          },
          "metadata": {
            "needs_background": "light"
          }
        },
        {
          "output_type": "display_data",
          "data": {
            "text/plain": [
              "<Figure size 432x288 with 1 Axes>"
            ],
            "image/png": "[encoded data removed]"
          },
          "metadata": {
            "needs_background": "light"
          }
        }
      ]
    },
    {
      "cell_type": "code",
      "source": [],
      "metadata": {
        "id": "9ensk39O_U1Q"
      },
      "execution_count": null,
      "outputs": []
    }
  ]
}